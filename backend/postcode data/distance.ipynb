{
 "cells": [
  {
   "cell_type": "code",
   "execution_count": 29,
   "metadata": {},
   "outputs": [],
   "source": [
    "import pandas as pd\n",
    "import numpy as np\n",
    "import geopy.distance\n",
    "df = pd.read_csv('postcode.csv')"
   ]
  },
  {
   "cell_type": "code",
   "execution_count": 30,
   "metadata": {},
   "outputs": [],
   "source": [
    "def distance(p1,p2):\n",
    "    return geopy.distance.geodesic(p1, p2).km"
   ]
  },
  {
   "cell_type": "code",
   "execution_count": 31,
   "metadata": {},
   "outputs": [
    {
     "data": {
      "text/plain": [
       "143.2277738073683"
      ]
     },
     "execution_count": 31,
     "metadata": {},
     "output_type": "execute_result"
    }
   ],
   "source": [
    "def distance_post(post1,post2):\n",
    "    p1 = df.loc[df['postcode'] == post1].values[0,1:]\n",
    "    p2 = df.loc[df['postcode'] == post2].values[0,1:]\n",
    "    return geopy.distance.geodesic(p1, p2).km\n",
    "distance_post(2540,2600)"
   ]
  },
  {
   "cell_type": "code",
   "execution_count": 32,
   "metadata": {},
   "outputs": [],
   "source": [
    "mat = np.clip(np.loadtxt(\"pp.gz\", delimiter=','),a_min = None, a_max = 255)"
   ]
  },
  {
   "cell_type": "code",
   "execution_count": 33,
   "metadata": {},
   "outputs": [
    {
     "name": "stdout",
     "output_type": "stream",
     "text": [
      "143.2277738073683\n",
      "143.0\n"
     ]
    }
   ],
   "source": [
    "print(distance((-35.1627,150.6907),(-35.3126,149.1278)))\n",
    "print(mat[2540][2600])\n",
    "# in km"
   ]
  },
  {
   "cell_type": "code",
   "execution_count": 34,
   "metadata": {},
   "outputs": [
    {
     "data": {
      "text/plain": [
       "762.94"
      ]
     },
     "execution_count": 34,
     "metadata": {},
     "output_type": "execute_result"
    }
   ],
   "source": [
    "from sys import getsizeof\n",
    "mat.shape\n",
    "round(getsizeof(mat) / 1024 / 1024,2) \n",
    "# memory usage in mb"
   ]
  }
 ],
 "metadata": {
  "kernelspec": {
   "display_name": "Python 3.10.6 ('venv': venv)",
   "language": "python",
   "name": "python3"
  },
  "language_info": {
   "codemirror_mode": {
    "name": "ipython",
    "version": 3
   },
   "file_extension": ".py",
   "mimetype": "text/x-python",
   "name": "python",
   "nbconvert_exporter": "python",
   "pygments_lexer": "ipython3",
   "version": "3.10.6"
  },
  "orig_nbformat": 4,
  "vscode": {
   "interpreter": {
    "hash": "628dd6376767966edbc977eaa7d8d6c1e1d2c5c64f6f49a21a1a90342db1a80a"
   }
  }
 },
 "nbformat": 4,
 "nbformat_minor": 2
}
