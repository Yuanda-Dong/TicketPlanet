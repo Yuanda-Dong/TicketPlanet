{
 "cells": [
  {
   "cell_type": "code",
   "execution_count": 8,
   "metadata": {},
   "outputs": [],
   "source": [
    "import pandas as pd\n",
    "import numpy as np\n",
    "import geopy.distance\n",
    "from queue import Queue\n",
    "from threading import Thread\n",
    "from math import ceil, floor\n",
    "from time import sleep, perf_counter\n",
    "from math import sin, cos, sqrt, atan2, radians\n",
    "df = pd.read_csv('au_postcodes.csv').drop_duplicates(subset=['postcode'])"
   ]
  },
  {
   "cell_type": "code",
   "execution_count": 9,
   "metadata": {},
   "outputs": [],
   "source": [
    "def distance(p1,p2):\n",
    "    return geopy.distance.geodesic(p1, p2).km"
   ]
  },
  {
   "cell_type": "code",
   "execution_count": 10,
   "metadata": {},
   "outputs": [
    {
     "name": "stdout",
     "output_type": "stream",
     "text": [
      "0\n",
      "10\n"
     ]
    }
   ],
   "source": [
    "mat = np.ndarray(shape=(3312,3312), dtype=float)\n",
    "for i in range(3312):\n",
    "    if i %10==0:\n",
    "            print(i)\n",
    "    for j in range(3312):\n",
    "        mat[i][j] = distance((df.iloc[i].latitude,df.iloc[i].longitude),(df.iloc[j].latitude,df.iloc[j].longitude))"
   ]
  }
 ],
 "metadata": {
  "kernelspec": {
   "display_name": "Python 3.10.6 ('venv': venv)",
   "language": "python",
   "name": "python3"
  },
  "language_info": {
   "codemirror_mode": {
    "name": "ipython",
    "version": 3
   },
   "file_extension": ".py",
   "mimetype": "text/x-python",
   "name": "python",
   "nbconvert_exporter": "python",
   "pygments_lexer": "ipython3",
   "version": "3.10.6"
  },
  "orig_nbformat": 4,
  "vscode": {
   "interpreter": {
    "hash": "628dd6376767966edbc977eaa7d8d6c1e1d2c5c64f6f49a21a1a90342db1a80a"
   }
  }
 },
 "nbformat": 4,
 "nbformat_minor": 2
}
